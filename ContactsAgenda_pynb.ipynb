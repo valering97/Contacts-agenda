{
  "cells": [
    {
      "cell_type": "markdown",
      "metadata": {
        "id": "view-in-github",
        "colab_type": "text"
      },
      "source": [
        "<a href=\"https://colab.research.google.com/github/valering97/Contacts-agenda/blob/main/ContactsAgenda_pynb.ipynb\" target=\"_parent\"><img src=\"https://colab.research.google.com/assets/colab-badge.svg\" alt=\"Open In Colab\"/></a>"
      ]
    },
    {
      "cell_type": "markdown",
      "metadata": {
        "id": "Dx3wtzgCvCon"
      },
      "source": [
        "#Software for managing a contact agenda\n",
        "\n"
      ]
    },
    {
      "cell_type": "code",
      "execution_count": null,
      "metadata": {
        "id": "whXTiebCwfly"
      },
      "outputs": [],
      "source": [
        "!mkdir rubrica"
      ]
    },
    {
      "cell_type": "code",
      "execution_count": null,
      "metadata": {
        "colab": {
          "base_uri": "https://localhost:8080/"
        },
        "id": "84GFLMyo0N5r",
        "outputId": "99b1b675-1a7d-4a31-be7f-1897bd2e9f21"
      },
      "outputs": [
        {
          "output_type": "stream",
          "name": "stdout",
          "text": [
            "Writing rubrica/__init__.py\n"
          ]
        }
      ],
      "source": [
        "%%writefile rubrica/__init__.py"
      ]
    },
    {
      "cell_type": "code",
      "execution_count": null,
      "metadata": {
        "colab": {
          "base_uri": "https://localhost:8080/"
        },
        "id": "phe1b7L71rVp",
        "outputId": "34ff9d44-c2ca-4681-8095-9f039e08ea15"
      },
      "outputs": [
        {
          "output_type": "stream",
          "name": "stdout",
          "text": [
            "Writing main.py\n"
          ]
        }
      ],
      "source": [
        "%%writefile main.py\n",
        "\n",
        "import sys\n",
        "import os\n",
        "from rubrica.contact import Contact, ask_new_contact, read_from_json\n",
        "from rubrica.manageMenu import print_menu, make_choice\n",
        "from rubrica.manageContactsList import ContactList\n",
        "\n",
        "def main(lista_contatti=None):\n",
        "    if not lista_contatti:\n",
        "        lista_contatti = ContactList()\n",
        "    while True:\n",
        "        print_menu()\n",
        "        if not make_choice(lista_contatti):\n",
        "            break\n",
        "        continue_program = input(\"Vuoi fare altre operazioni? [s/n]: \")\n",
        "        if continue_program.lower() != \"s\":\n",
        "            print(\"Uscita dal programma, Arrivederci!\")\n",
        "            break\n",
        "\n",
        "if __name__ == \"__main__\":\n",
        "    main()\n"
      ]
    },
    {
      "cell_type": "code",
      "execution_count": null,
      "metadata": {
        "id": "POhcVycMx1Xt",
        "colab": {
          "base_uri": "https://localhost:8080/"
        },
        "outputId": "ee26cc52-b7fd-489b-88d6-062c4f59a9f5"
      },
      "outputs": [
        {
          "output_type": "stream",
          "name": "stdout",
          "text": [
            "Overwriting rubrica/contact.py\n"
          ]
        }
      ],
      "source": [
        "%%writefile rubrica/contact.py\n",
        "\n",
        "import json\n",
        "import os\n",
        "\n",
        "FILE_PATH = 'contacts.json'\n",
        "\n",
        "class Contact:\n",
        "    def __init__(self, first_name, last_name, phone):\n",
        "        self.first_name = first_name\n",
        "        self.last_name = last_name\n",
        "        self.phone = phone\n",
        "\n",
        "    def __str__(self):\n",
        "        return f\"{self.first_name} {self.last_name}: {self.phone}\"\n",
        "\n",
        "    def update_contact(self, first_name=None, last_name=None, phone=None):\n",
        "        if first_name:\n",
        "            self.first_name = first_name\n",
        "        if last_name:\n",
        "            self.last_name = last_name\n",
        "        if phone:\n",
        "            self.phone = phone\n",
        "\n",
        "    def matches(self, name):\n",
        "        full_name = f\"{self.first_name} {self.last_name}\"\n",
        "        return name.lower() in full_name.lower()\n",
        "\n",
        "def ask_new_contact():\n",
        "    first_name = input(\"Nome: \")\n",
        "    while not first_name.isalpha():\n",
        "        print(\"Attenzione, inserire un nome valido.\")\n",
        "        first_name = input(\"Nome: \")\n",
        "    last_name = input(\"Cognome: \")\n",
        "    while not last_name.isalpha():\n",
        "        print(\"Attenzione, inserire un cognome valido.\")\n",
        "        last_name = input(\"Cognome: \")\n",
        "    phone = input(\"Telefono: \")\n",
        "    while not phone.isnumeric():\n",
        "        print(\"Attenzione, inserire un numero di telefono valido.\")\n",
        "        phone = input(\"Telefono: \")\n",
        "    return first_name, last_name, phone\n",
        "\n",
        "def read_from_json():\n",
        "    contacts = []\n",
        "    if os.path.exists(FILE_PATH):\n",
        "        try:\n",
        "            with open(FILE_PATH, 'r') as contatti_json:\n",
        "                data = json.load(contatti_json).get(\"Contatti\", [])\n",
        "                for d in data:\n",
        "                    contacts.append(Contact(d['first_name'], d['last_name'], d['phone']))\n",
        "        except json.JSONDecodeError:\n",
        "            print(\"Errore nella lettura del file JSON.\")\n",
        "    return contacts\n"
      ]
    },
    {
      "cell_type": "code",
      "execution_count": null,
      "metadata": {
        "colab": {
          "base_uri": "https://localhost:8080/"
        },
        "id": "BPH1JvB6z68g",
        "outputId": "3d4a88f5-ccf1-4ad2-db8d-aa27f46c21af"
      },
      "outputs": [
        {
          "output_type": "stream",
          "name": "stdout",
          "text": [
            "Overwriting rubrica/manageMenu.py\n"
          ]
        }
      ],
      "source": [
        "%%writefile rubrica/manageMenu.py\n",
        "from rubrica.contact import Contact, ask_new_contact\n",
        "import sys\n",
        "\n",
        "def print_menu():\n",
        "    print(\"--------------------------------\")\n",
        "    print(\"| RUBRICA CONTATTI ContactEase |\")\n",
        "    print(\"--------------------------------\")\n",
        "    print(\"\\n1) Visualizza i contatti in rubrica\")\n",
        "    print(\"2) Inserisci un nuovo contatto\")\n",
        "    print(\"3) Cerca contatto per nome o cognome\")\n",
        "    print(\"4) Modifica un contatto\")\n",
        "    print(\"5) Elimina un contatto\")\n",
        "    print(\"6) Esci dal programma\\n\")\n",
        "\n",
        "# Funzione per gestire l'aggiunta del contatto\n",
        "def add_new_contact(lista_contatti):\n",
        "    while True:\n",
        "        first_name, last_name, phone = ask_new_contact()\n",
        "        contact = Contact(first_name, last_name, phone)\n",
        "        if lista_contatti.add_contact(contact):\n",
        "            print(\"Contatto aggiunto correttamente.\")\n",
        "        else:\n",
        "            print(\"Errore: Un contatto con questo nome e numero di telefono esiste già.\")\n",
        "\n",
        "        continue_add = input(\"Vuoi aggiungere altri contatti? [s/n]: \")\n",
        "        if continue_add.lower() == \"n\":\n",
        "            break\n",
        "\n",
        "# Funzione per gestire la scelta delle opzioni del menu\n",
        "def make_choice(lista_contatti):\n",
        "    while True:\n",
        "        choice = input(\"Seleziona un'opzione: \")\n",
        "        while choice not in [\"1\", \"2\", \"3\", \"4\", \"5\", \"6\"]:\n",
        "            print(\"Scelta non valida. Inserisci un numero compreso fra 1 e 6.\")\n",
        "            choice = input(\"Seleziona un'opzione: \")\n",
        "\n",
        "        if choice == '1': #Visualizza i contatti\n",
        "            if not lista_contatti.view_contacts():\n",
        "                continue_add = input(\"Vuoi aggiungere un nuovo contatto? [s/n]: \")\n",
        "                if continue_add.lower() == \"s\":\n",
        "                    # Richiama la funzione di aggiunta contatto\n",
        "                    add_new_contact(lista_contatti)\n",
        "                return True\n",
        "            else:\n",
        "                return True\n",
        "\n",
        "        elif choice == '2': #Aggiunta contatto\n",
        "            add_new_contact(lista_contatti)\n",
        "            return True\n",
        "\n",
        "        elif choice == '3':\n",
        "            name = input(\"Inserisci il nome o il cognome da cercare: \")\n",
        "            results = lista_contatti.search_contact(name)\n",
        "            if results:\n",
        "                print(\"Contatti trovati: \")\n",
        "                for contact in results:\n",
        "                    print(contact)\n",
        "            else:\n",
        "                print(\"Contatto non trovato.\")\n",
        "            return True\n",
        "\n",
        "        elif choice == '4':\n",
        "            name = input(\"Inserisci il nome o il cognome del contatto da modificare: \")\n",
        "            results = lista_contatti.search_contact(name)\n",
        "            if len(results) == 1:\n",
        "                print(results[0])\n",
        "                contact = results[0]\n",
        "                lista_contatti.edit_contact(contact)\n",
        "            elif len(results) > 1:\n",
        "                print(\"Contatti trovati: \")\n",
        "                for i, contact in enumerate(results, start=1):\n",
        "                    print(f\"{i}) {contact}\")\n",
        "                try:\n",
        "                    choice = int(input(\"Seleziona il contatto da modificare: \"))\n",
        "                    if choice in range(1, len(results) + 1):\n",
        "                        contact = results[choice - 1]\n",
        "                        lista_contatti.edit_contact(contact)\n",
        "                    else:\n",
        "                        print(\"Scelta non valida.\")\n",
        "                except ValueError:\n",
        "                    print(\"Scelta non valida.\")\n",
        "            else:\n",
        "                print(\"Contatto non trovato.\")\n",
        "            return True\n",
        "\n",
        "        elif choice == '5':\n",
        "            name = input(\"Inserisci il nome o il cognome del contatto da eliminare: \")\n",
        "            results = lista_contatti.search_contact(name)\n",
        "            if len(results) == 1:\n",
        "                print(results[0])\n",
        "                confirm = input(\"Sei sicuro di voler eliminare questo contatto? [s/n]: \")\n",
        "                if confirm.lower() == \"s\":\n",
        "                    lista_contatti.remove_contact(results[0])\n",
        "                    print(\"Contatto eliminato correttamente.\")\n",
        "            elif len(results) > 1:\n",
        "                print(\"Contatti trovati: \")\n",
        "                for i, contact in enumerate(results, start=1):\n",
        "                    print(f\"{i}) {contact}\")\n",
        "                try:\n",
        "                    choice = int(input(\"Seleziona il contatto da eliminare: \"))\n",
        "                    if choice in range(1, len(results) + 1):\n",
        "                        contact = results[choice - 1]\n",
        "                        confirm = input(f\"Sei sicuro di voler eliminare {contact}? [s/n]: \")\n",
        "                        if confirm.lower() == \"s\":\n",
        "                            lista_contatti.remove_contact(contact)\n",
        "                            print(\"Contatto eliminato correttamente.\")\n",
        "                        else:\n",
        "                            print(\"Eliminazione annullata.\")\n",
        "                    else:\n",
        "                        print(\"Scelta non valida.\")\n",
        "                except ValueError:\n",
        "                    print(\"Scelta non valida.\")\n",
        "            else:\n",
        "                print(\"Contatto non trovato.\")\n",
        "            return True\n",
        "\n",
        "        elif choice == '6':\n",
        "            exit_input = input(\"Sei sicuro di voler uscire dal programma? [s/n]: \")\n",
        "            if exit_input.lower() == \"s\":\n",
        "                print(\"Uscita dal programma, Arrivederci!\")\n",
        "                return False\n",
        "            else:\n",
        "                return True\n"
      ]
    },
    {
      "cell_type": "code",
      "execution_count": null,
      "metadata": {
        "colab": {
          "base_uri": "https://localhost:8080/"
        },
        "id": "s0n7J0BDze2s",
        "outputId": "2b4c913c-4f45-4ebd-a4d4-2562ef4d4304"
      },
      "outputs": [
        {
          "output_type": "stream",
          "name": "stdout",
          "text": [
            "Overwriting rubrica/manageContactsList.py\n"
          ]
        }
      ],
      "source": [
        "%%writefile rubrica/manageContactsList.py\n",
        "\n",
        "import json\n",
        "from rubrica.contact import Contact, read_from_json, FILE_PATH, ask_new_contact\n",
        "\n",
        "class ContactList:\n",
        "    \"\"\"\n",
        "    Classe per gestire la rubrica di contatti.\n",
        "\n",
        "    Attributi:\n",
        "        contacts (list): Lista dei contatti caricati dal file JSON.\n",
        "\n",
        "    Metodi:\n",
        "        __init__: Inizializza la rubrica caricando i contatti dal file JSON.\n",
        "        is_duplicate: Verifica se un contatto è già presente nella rubrica.\n",
        "        add_contact: Aggiunge un contatto alla rubrica, se non è duplicato.\n",
        "        remove_contact: Rimuove un contatto dalla rubrica.\n",
        "        view_contacts: Visualizza tutti i contatti nella rubrica.\n",
        "        search_contact: Cerca contatti per nome o cognome.\n",
        "        edit_contact: Modifica di un contatto esistente.\n",
        "        write_to_json: Salva la lista dei contatti nel file JSON.\n",
        "    \"\"\"\n",
        "\n",
        "    def __init__(self):\n",
        "        self.contacts = read_from_json()\n",
        "\n",
        "    def is_duplicate(self, contact):\n",
        "        for c in self.contacts:\n",
        "            if c.first_name == contact.first_name and c.last_name == contact.last_name and c.phone == contact.phone:\n",
        "                return True\n",
        "        return False\n",
        "\n",
        "    def add_contact(self, contact):\n",
        "        if self.is_duplicate(contact):\n",
        "            return False\n",
        "        self.contacts.append(contact)\n",
        "        self.write_to_json()\n",
        "        return True\n",
        "\n",
        "    def remove_contact(self, contact):\n",
        "        self.contacts.remove(contact)\n",
        "        self.write_to_json()\n",
        "\n",
        "    def view_contacts(self):\n",
        "        if not self.contacts:\n",
        "            print(\"Nessun contatto esistente.\")\n",
        "            return False\n",
        "        else:\n",
        "            print(\"Lista contatti in rubrica:\")\n",
        "            for contact in self.contacts:\n",
        "                print(contact)\n",
        "            return True\n",
        "\n",
        "    def search_contact(self, name):\n",
        "        results = []\n",
        "        for contact in self.contacts:\n",
        "            if contact.matches(name):\n",
        "                results.append(contact)\n",
        "        return results\n",
        "\n",
        "    def edit_contact(self, contact):\n",
        "        first_name, last_name, phone = ask_new_contact()\n",
        "        contact.update_contact(first_name, last_name, phone)\n",
        "        self.write_to_json()\n",
        "        print(\"Contatto modificato correttamente.\")\n",
        "\n",
        "    def write_to_json(self):\n",
        "        data = {'Contatti': [{'first_name': c.first_name, 'last_name': c.last_name, 'phone': c.phone} for c in self.contacts]}\n",
        "        with open(FILE_PATH, 'w') as contatti_json:\n",
        "            json.dump(data, contatti_json, indent=4)\n"
      ]
    },
    {
      "cell_type": "code",
      "execution_count": null,
      "metadata": {
        "colab": {
          "base_uri": "https://localhost:8080/"
        },
        "id": "CJDMbv_8Avga",
        "outputId": "47d8c8a4-069a-4bff-e820-07ee634116f5"
      },
      "outputs": [
        {
          "output_type": "stream",
          "name": "stdout",
          "text": [
            "--------------------------------\n",
            "| RUBRICA CONTATTI ContactEase |\n",
            "--------------------------------\n",
            "\n",
            "1) Visualizza i contatti in rubrica\n",
            "2) Inserisci un nuovo contatto\n",
            "3) Cerca contatto per nome o cognome\n",
            "4) Modifica un contatto\n",
            "5) Elimina un contatto\n",
            "6) Esci dal programma\n",
            "\n",
            "Seleziona un'opzione: 1\n",
            "Lista contatti in rubrica:\n",
            "vale vale: 1\n",
            "Vuoi fare altre operazioni? [s/n]: s\n",
            "--------------------------------\n",
            "| RUBRICA CONTATTI ContactEase |\n",
            "--------------------------------\n",
            "\n",
            "1) Visualizza i contatti in rubrica\n",
            "2) Inserisci un nuovo contatto\n",
            "3) Cerca contatto per nome o cognome\n",
            "4) Modifica un contatto\n",
            "5) Elimina un contatto\n",
            "6) Esci dal programma\n",
            "\n",
            "Seleziona un'opzione: 2\n",
            "Nome: valeria\n",
            "Cognome: rossi\n",
            "Telefono: 331429\n",
            "Contatto aggiunto correttamente.\n",
            "Vuoi aggiungere altri contatti? [s/n]: s\n",
            "Nome: lorenzo\n",
            "Cognome: rossini\n",
            "Telefono: 339429\n",
            "Contatto aggiunto correttamente.\n",
            "Vuoi aggiungere altri contatti? [s/n]: n\n",
            "Vuoi fare altre operazioni? [s/n]: s\n",
            "--------------------------------\n",
            "| RUBRICA CONTATTI ContactEase |\n",
            "--------------------------------\n",
            "\n",
            "1) Visualizza i contatti in rubrica\n",
            "2) Inserisci un nuovo contatto\n",
            "3) Cerca contatto per nome o cognome\n",
            "4) Modifica un contatto\n",
            "5) Elimina un contatto\n",
            "6) Esci dal programma\n",
            "\n",
            "Seleziona un'opzione: 3\n",
            "Inserisci il nome o il cognome da cercare: rossi\n",
            "Contatti trovati: \n",
            "valeria rossi: 331429\n",
            "lorenzo rossini: 339429\n",
            "Vuoi fare altre operazioni? [s/n]: s\n",
            "--------------------------------\n",
            "| RUBRICA CONTATTI ContactEase |\n",
            "--------------------------------\n",
            "\n",
            "1) Visualizza i contatti in rubrica\n",
            "2) Inserisci un nuovo contatto\n",
            "3) Cerca contatto per nome o cognome\n",
            "4) Modifica un contatto\n",
            "5) Elimina un contatto\n",
            "6) Esci dal programma\n",
            "\n",
            "Seleziona un'opzione: 4\n",
            "Inserisci il nome o il cognome del contatto da modificare: rossi\n",
            "Contatti trovati: \n",
            "1) valeria rossi: 331429\n",
            "2) lorenzo rossini: 339429\n",
            "Seleziona il contatto da modificare: 2\n",
            "Nome: lorenzo\n",
            "Cognome: rossini\n",
            "Telefono: 339419\n",
            "Contatto modificato correttamente.\n",
            "Vuoi fare altre operazioni? [s/n]: n\n",
            "Uscita dal programma, Arrivederci!\n"
          ]
        }
      ],
      "source": [
        "!python3 main.py"
      ]
    }
  ],
  "metadata": {
    "colab": {
      "provenance": [],
      "authorship_tag": "ABX9TyPup9RvqoOpys3BGBO6n+s3",
      "include_colab_link": true
    },
    "kernelspec": {
      "display_name": "Python 3",
      "name": "python3"
    },
    "language_info": {
      "name": "python"
    }
  },
  "nbformat": 4,
  "nbformat_minor": 0
}